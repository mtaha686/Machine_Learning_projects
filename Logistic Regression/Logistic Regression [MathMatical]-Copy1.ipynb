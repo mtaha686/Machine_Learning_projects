{
 "cells": [
  {
   "cell_type": "code",
   "execution_count": 85,
   "id": "f31206a0",
   "metadata": {},
   "outputs": [],
   "source": [
    "import numpy as np\n",
    "import pandas as pd\n",
    "import matplotlib.pyplot as plt\n",
    "from sklearn.preprocessing import StandardScaler\n",
    "from sklearn.model_selection import train_test_split"
   ]
  },
  {
   "cell_type": "code",
   "execution_count": 86,
   "id": "7ab041a9",
   "metadata": {},
   "outputs": [],
   "source": [
    "# Load the Titanic dataset\n",
    "data = pd.read_csv(\"titanic.csv\")"
   ]
  },
  {
   "cell_type": "code",
   "execution_count": 87,
   "id": "abd87188",
   "metadata": {},
   "outputs": [],
   "source": [
    "# Preprocessing\n",
    "df = data.copy()\n",
    "df['Sex'] = df['Sex'].replace({'male': 1, 'female': 2})\n",
    "df['Embarked'] = df['Embarked'].fillna('S')  # Fill missing values with 'S'\n",
    "df['Embarked'] = df['Embarked'].map({'S': 0, 'C': 1, 'Q': 2}).astype(int)"
   ]
  },
  {
   "cell_type": "code",
   "execution_count": 88,
   "id": "abbaab3e",
   "metadata": {},
   "outputs": [],
   "source": [
    "# Fill missing values in Age and Fare with their means\n",
    "df['Age'].fillna(df['Age'].mean(), inplace=True)\n",
    "df['Fare'].fillna(df['Fare'].mean(), inplace=True)"
   ]
  },
  {
   "cell_type": "code",
   "execution_count": 89,
   "id": "1e51f401",
   "metadata": {},
   "outputs": [],
   "source": [
    "# Feature scaling\n",
    "scaler = StandardScaler()\n",
    "features = ['Pclass', 'Age', 'SibSp', 'Parch', 'Fare', 'Sex', 'Embarked']\n",
    "df[features] = scaler.fit_transform(df[features])"
   ]
  },
  {
   "cell_type": "code",
   "execution_count": 90,
   "id": "a31476ac",
   "metadata": {},
   "outputs": [
    {
     "data": {
      "text/html": [
       "<div>\n",
       "<style scoped>\n",
       "    .dataframe tbody tr th:only-of-type {\n",
       "        vertical-align: middle;\n",
       "    }\n",
       "\n",
       "    .dataframe tbody tr th {\n",
       "        vertical-align: top;\n",
       "    }\n",
       "\n",
       "    .dataframe thead th {\n",
       "        text-align: right;\n",
       "    }\n",
       "</style>\n",
       "<table border=\"1\" class=\"dataframe\">\n",
       "  <thead>\n",
       "    <tr style=\"text-align: right;\">\n",
       "      <th></th>\n",
       "      <th>PassengerId</th>\n",
       "      <th>Survived</th>\n",
       "      <th>Pclass</th>\n",
       "      <th>Name</th>\n",
       "      <th>Sex</th>\n",
       "      <th>Age</th>\n",
       "      <th>SibSp</th>\n",
       "      <th>Parch</th>\n",
       "      <th>Ticket</th>\n",
       "      <th>Fare</th>\n",
       "      <th>Cabin</th>\n",
       "      <th>Embarked</th>\n",
       "    </tr>\n",
       "  </thead>\n",
       "  <tbody>\n",
       "    <tr>\n",
       "      <th>0</th>\n",
       "      <td>892</td>\n",
       "      <td>0</td>\n",
       "      <td>0.873482</td>\n",
       "      <td>Kelly, Mr. James</td>\n",
       "      <td>-0.755929</td>\n",
       "      <td>0.334993</td>\n",
       "      <td>-0.499470</td>\n",
       "      <td>-0.400248</td>\n",
       "      <td>330911</td>\n",
       "      <td>-0.498407</td>\n",
       "      <td>NaN</td>\n",
       "      <td>2.243165</td>\n",
       "    </tr>\n",
       "    <tr>\n",
       "      <th>1</th>\n",
       "      <td>893</td>\n",
       "      <td>1</td>\n",
       "      <td>0.873482</td>\n",
       "      <td>Wilkes, Mrs. James (Ellen Needs)</td>\n",
       "      <td>1.322876</td>\n",
       "      <td>1.325530</td>\n",
       "      <td>0.616992</td>\n",
       "      <td>-0.400248</td>\n",
       "      <td>363272</td>\n",
       "      <td>-0.513274</td>\n",
       "      <td>NaN</td>\n",
       "      <td>-0.677841</td>\n",
       "    </tr>\n",
       "    <tr>\n",
       "      <th>2</th>\n",
       "      <td>894</td>\n",
       "      <td>0</td>\n",
       "      <td>-0.315819</td>\n",
       "      <td>Myles, Mr. Thomas Francis</td>\n",
       "      <td>-0.755929</td>\n",
       "      <td>2.514175</td>\n",
       "      <td>-0.499470</td>\n",
       "      <td>-0.400248</td>\n",
       "      <td>240276</td>\n",
       "      <td>-0.465088</td>\n",
       "      <td>NaN</td>\n",
       "      <td>2.243165</td>\n",
       "    </tr>\n",
       "    <tr>\n",
       "      <th>3</th>\n",
       "      <td>895</td>\n",
       "      <td>0</td>\n",
       "      <td>0.873482</td>\n",
       "      <td>Wirz, Mr. Albert</td>\n",
       "      <td>-0.755929</td>\n",
       "      <td>-0.259330</td>\n",
       "      <td>-0.499470</td>\n",
       "      <td>-0.400248</td>\n",
       "      <td>315154</td>\n",
       "      <td>-0.483466</td>\n",
       "      <td>NaN</td>\n",
       "      <td>-0.677841</td>\n",
       "    </tr>\n",
       "    <tr>\n",
       "      <th>4</th>\n",
       "      <td>896</td>\n",
       "      <td>1</td>\n",
       "      <td>0.873482</td>\n",
       "      <td>Hirvonen, Mrs. Alexander (Helga E Lindqvist)</td>\n",
       "      <td>1.322876</td>\n",
       "      <td>-0.655545</td>\n",
       "      <td>0.616992</td>\n",
       "      <td>0.619896</td>\n",
       "      <td>3101298</td>\n",
       "      <td>-0.418471</td>\n",
       "      <td>NaN</td>\n",
       "      <td>-0.677841</td>\n",
       "    </tr>\n",
       "  </tbody>\n",
       "</table>\n",
       "</div>"
      ],
      "text/plain": [
       "   PassengerId  Survived    Pclass  \\\n",
       "0          892         0  0.873482   \n",
       "1          893         1  0.873482   \n",
       "2          894         0 -0.315819   \n",
       "3          895         0  0.873482   \n",
       "4          896         1  0.873482   \n",
       "\n",
       "                                           Name       Sex       Age     SibSp  \\\n",
       "0                              Kelly, Mr. James -0.755929  0.334993 -0.499470   \n",
       "1              Wilkes, Mrs. James (Ellen Needs)  1.322876  1.325530  0.616992   \n",
       "2                     Myles, Mr. Thomas Francis -0.755929  2.514175 -0.499470   \n",
       "3                              Wirz, Mr. Albert -0.755929 -0.259330 -0.499470   \n",
       "4  Hirvonen, Mrs. Alexander (Helga E Lindqvist)  1.322876 -0.655545  0.616992   \n",
       "\n",
       "      Parch   Ticket      Fare Cabin  Embarked  \n",
       "0 -0.400248   330911 -0.498407   NaN  2.243165  \n",
       "1 -0.400248   363272 -0.513274   NaN -0.677841  \n",
       "2 -0.400248   240276 -0.465088   NaN  2.243165  \n",
       "3 -0.400248   315154 -0.483466   NaN -0.677841  \n",
       "4  0.619896  3101298 -0.418471   NaN -0.677841  "
      ]
     },
     "execution_count": 90,
     "metadata": {},
     "output_type": "execute_result"
    }
   ],
   "source": [
    "df.head()"
   ]
  },
  {
   "cell_type": "code",
   "execution_count": 91,
   "id": "f20108bc",
   "metadata": {},
   "outputs": [],
   "source": [
    "# Split the data into training and testing sets\n",
    "X = df[features].values\n",
    "y = df['Survived'].values\n",
    "x_train, x_test, y_train, y_test = train_test_split(X, y, test_size=0.2, random_state=42)"
   ]
  },
  {
   "cell_type": "code",
   "execution_count": 92,
   "id": "e66d7f8b",
   "metadata": {},
   "outputs": [],
   "source": [
    "# Sigmoid function\n",
    "def sigmoid(z):\n",
    "    return 1 / (1 + np.exp(-z))"
   ]
  },
  {
   "cell_type": "code",
   "execution_count": 93,
   "id": "fec5c6f3",
   "metadata": {},
   "outputs": [],
   "source": [
    "# Initialize weights and bias with small random values\n",
    "np.random.seed(0)\n",
    "w = np.random.randn(x_train.shape[1])\n",
    "b = np.random.randn()"
   ]
  },
  {
   "cell_type": "code",
   "execution_count": 94,
   "id": "a2c21f1d",
   "metadata": {},
   "outputs": [],
   "source": [
    "# Gradient Descent\n",
    "def gradientDescent(X, y, w, b, lr, itr):\n",
    "    J_history = []\n",
    "    \n",
    "    for i in range(itr):\n",
    "        z = np.dot(X, w) + b\n",
    "        y_hat = sigmoid(z)\n",
    "        error = y_hat - y\n",
    "        dw = np.dot(X.T, error) / len(X)\n",
    "        db = np.sum(error) / len(X)\n",
    "        \n",
    "        w -= lr * dw\n",
    "        b -= lr * db\n",
    "        \n",
    "        cost = -1 / len(X) * (np.dot(y.T, np.log(y_hat)) + np.dot((1 - y).T, np.log(1 - y_hat)))\n",
    "        J_history.append(cost)\n",
    "        \n",
    "        if i % (itr // 10) == 0:\n",
    "            print(f\"Iteration {i:4d}: Cost {cost:.5f} \")\n",
    "\n",
    "    return w, b, J_history"
   ]
  },
  {
   "cell_type": "markdown",
   "id": "e32c9bec",
   "metadata": {},
   "source": [
    "## Evaluating Training Data"
   ]
  },
  {
   "cell_type": "code",
   "execution_count": 113,
   "id": "8c7d5717",
   "metadata": {},
   "outputs": [
    {
     "name": "stdout",
     "output_type": "stream",
     "text": [
      "Iteration    0: Cost 0.00072 \n",
      "Iteration 10000: Cost 0.00069 \n",
      "Iteration 20000: Cost 0.00067 \n",
      "Iteration 30000: Cost 0.00065 \n",
      "Iteration 40000: Cost 0.00064 \n",
      "Iteration 50000: Cost 0.00062 \n",
      "Iteration 60000: Cost 0.00061 \n",
      "Iteration 70000: Cost 0.00060 \n",
      "Iteration 80000: Cost 0.00059 \n",
      "Iteration 90000: Cost 0.00058 \n"
     ]
    },
    {
     "data": {
      "image/png": "[encoded data removed]",
      "text/plain": [
       "<Figure size 400x300 with 1 Axes>"
      ]
     },
     "metadata": {},
     "output_type": "display_data"
    }
   ],
   "source": [
    "# Learning rate and iterations\n",
    "lr = 0.001\n",
    "iterations = 100000\n",
    "w_final, b_final, J_hist = gradientDescent(x_train, y_train, w, b, lr, iterations)\n",
    "# Plot the loss\n",
    "plt.figure(figsize=(4, 3))\n",
    "plt.plot(range(iterations), J_hist, label='Cost', color='green')\n",
    "plt.xlabel('Iteration')\n",
    "plt.ylabel('Cost')\n",
    "plt.legend()\n",
    "plt.title('Cost per Iteration (Training Data)')\n",
    "\n",
    "plt.show()\n",
    "# plt.figure(figsize=(4, 3))\n",
    "# plt.plot(cf)\n",
    "# plt.xlabel('Iteration')\n",
    "# plt.ylabel('Cost')\n",
    "# plt.title('Cost vs. Iteration')\n",
    "# plt.show()"
   ]
  },
  {
   "cell_type": "code",
   "execution_count": 115,
   "id": "c1b1dfb2",
   "metadata": {},
   "outputs": [
    {
     "data": {
      "text/html": [
       "<div>\n",
       "<style scoped>\n",
       "    .dataframe tbody tr th:only-of-type {\n",
       "        vertical-align: middle;\n",
       "    }\n",
       "\n",
       "    .dataframe tbody tr th {\n",
       "        vertical-align: top;\n",
       "    }\n",
       "\n",
       "    .dataframe thead th {\n",
       "        text-align: right;\n",
       "    }\n",
       "</style>\n",
       "<table border=\"1\" class=\"dataframe\">\n",
       "  <thead>\n",
       "    <tr style=\"text-align: right;\">\n",
       "      <th></th>\n",
       "      <th>Actual Price</th>\n",
       "      <th>Predicted Price</th>\n",
       "    </tr>\n",
       "  </thead>\n",
       "  <tbody>\n",
       "    <tr>\n",
       "      <th>0</th>\n",
       "      <td>0</td>\n",
       "      <td>0</td>\n",
       "    </tr>\n",
       "    <tr>\n",
       "      <th>1</th>\n",
       "      <td>0</td>\n",
       "      <td>0</td>\n",
       "    </tr>\n",
       "    <tr>\n",
       "      <th>2</th>\n",
       "      <td>0</td>\n",
       "      <td>0</td>\n",
       "    </tr>\n",
       "    <tr>\n",
       "      <th>3</th>\n",
       "      <td>0</td>\n",
       "      <td>0</td>\n",
       "    </tr>\n",
       "    <tr>\n",
       "      <th>4</th>\n",
       "      <td>0</td>\n",
       "      <td>0</td>\n",
       "    </tr>\n",
       "    <tr>\n",
       "      <th>...</th>\n",
       "      <td>...</td>\n",
       "      <td>...</td>\n",
       "    </tr>\n",
       "    <tr>\n",
       "      <th>329</th>\n",
       "      <td>0</td>\n",
       "      <td>0</td>\n",
       "    </tr>\n",
       "    <tr>\n",
       "      <th>330</th>\n",
       "      <td>0</td>\n",
       "      <td>0</td>\n",
       "    </tr>\n",
       "    <tr>\n",
       "      <th>331</th>\n",
       "      <td>0</td>\n",
       "      <td>0</td>\n",
       "    </tr>\n",
       "    <tr>\n",
       "      <th>332</th>\n",
       "      <td>0</td>\n",
       "      <td>0</td>\n",
       "    </tr>\n",
       "    <tr>\n",
       "      <th>333</th>\n",
       "      <td>0</td>\n",
       "      <td>0</td>\n",
       "    </tr>\n",
       "  </tbody>\n",
       "</table>\n",
       "<p>334 rows × 2 columns</p>\n",
       "</div>"
      ],
      "text/plain": [
       "     Actual Price  Predicted Price\n",
       "0               0                0\n",
       "1               0                0\n",
       "2               0                0\n",
       "3               0                0\n",
       "4               0                0\n",
       "..            ...              ...\n",
       "329             0                0\n",
       "330             0                0\n",
       "331             0                0\n",
       "332             0                0\n",
       "333             0                0\n",
       "\n",
       "[334 rows x 2 columns]"
      ]
     },
     "execution_count": 115,
     "metadata": {},
     "output_type": "execute_result"
    }
   ],
   "source": [
    "y_train_predicted = np.dot(x_train, w_final) + b_final\n",
    "y_predTr = [1 if x >= 0.5 else 0 for x in y_train_predicted]\n",
    "df1 = pd.DataFrame({'Actual Price': y_train, 'Predicted Price':y_predTr})\n",
    "df1"
   ]
  },
  {
   "cell_type": "code",
   "execution_count": 121,
   "id": "4d012347",
   "metadata": {},
   "outputs": [
    {
     "name": "stdout",
     "output_type": "stream",
     "text": [
      "R-squared (Training Data): 1.000\n"
     ]
    }
   ],
   "source": [
    "# Calculate the mean of the actual values\n",
    "mean_actual = np.mean(y_train)\n",
    "# Calculate the total sum of squares (SST)\n",
    "sst = np.sum((y_train - mean_actual) ** 2)\n",
    "# Calculate the sum of squared residuals (SSR)\n",
    "ssr = np.sum((y_predTr - y_train) ** 2)\n",
    "# Calculate R-squared\n",
    "r_squared = 1 - (ssr / sst)\n",
    "print(f\"R-squared (Training Data): {r_squared:.3f}\")"
   ]
  },
  {
   "cell_type": "markdown",
   "id": "d887928e",
   "metadata": {},
   "source": [
    "## Evaluating Testing Data"
   ]
  },
  {
   "cell_type": "code",
   "execution_count": 108,
   "id": "215ff8a7",
   "metadata": {},
   "outputs": [
    {
     "name": "stdout",
     "output_type": "stream",
     "text": [
      "Iteration    0: Cost 0.00047 \n",
      "Iteration 10000: Cost 0.00044 \n",
      "Iteration 20000: Cost 0.00041 \n",
      "Iteration 30000: Cost 0.00039 \n",
      "Iteration 40000: Cost 0.00036 \n",
      "Iteration 50000: Cost 0.00034 \n",
      "Iteration 60000: Cost 0.00033 \n",
      "Iteration 70000: Cost 0.00031 \n",
      "Iteration 80000: Cost 0.00030 \n",
      "Iteration 90000: Cost 0.00028 \n"
     ]
    },
    {
     "data": {
      "image/png": "[encoded data removed]",
      "text/plain": [
       "<Figure size 400x300 with 1 Axes>"
      ]
     },
     "metadata": {},
     "output_type": "display_data"
    }
   ],
   "source": [
    "# Learning rate and iterations\n",
    "lr = 0.01\n",
    "iterations = 100000\n",
    "w_final, b_final, J_hist = gradientDescent(x_test, y_test, w, b, lr, iterations)\n",
    "# Plot the loss\n",
    "plt.figure(figsize=(4, 3))\n",
    "plt.plot(range(iterations), J_hist, label='Cost', color='green')\n",
    "plt.xlabel('Iteration')\n",
    "plt.ylabel('Cost')\n",
    "plt.legend()\n",
    "plt.title('Cost per Iteration (Testing Data)')\n",
    "\n",
    "plt.show()"
   ]
  },
  {
   "cell_type": "code",
   "execution_count": 110,
   "id": "b9ae2a03",
   "metadata": {},
   "outputs": [
    {
     "data": {
      "text/html": [
       "<div>\n",
       "<style scoped>\n",
       "    .dataframe tbody tr th:only-of-type {\n",
       "        vertical-align: middle;\n",
       "    }\n",
       "\n",
       "    .dataframe tbody tr th {\n",
       "        vertical-align: top;\n",
       "    }\n",
       "\n",
       "    .dataframe thead th {\n",
       "        text-align: right;\n",
       "    }\n",
       "</style>\n",
       "<table border=\"1\" class=\"dataframe\">\n",
       "  <thead>\n",
       "    <tr style=\"text-align: right;\">\n",
       "      <th></th>\n",
       "      <th>Actual Price</th>\n",
       "      <th>Predicted Price</th>\n",
       "    </tr>\n",
       "  </thead>\n",
       "  <tbody>\n",
       "    <tr>\n",
       "      <th>0</th>\n",
       "      <td>0</td>\n",
       "      <td>0</td>\n",
       "    </tr>\n",
       "    <tr>\n",
       "      <th>1</th>\n",
       "      <td>1</td>\n",
       "      <td>1</td>\n",
       "    </tr>\n",
       "    <tr>\n",
       "      <th>2</th>\n",
       "      <td>0</td>\n",
       "      <td>0</td>\n",
       "    </tr>\n",
       "    <tr>\n",
       "      <th>3</th>\n",
       "      <td>0</td>\n",
       "      <td>0</td>\n",
       "    </tr>\n",
       "    <tr>\n",
       "      <th>4</th>\n",
       "      <td>1</td>\n",
       "      <td>1</td>\n",
       "    </tr>\n",
       "    <tr>\n",
       "      <th>...</th>\n",
       "      <td>...</td>\n",
       "      <td>...</td>\n",
       "    </tr>\n",
       "    <tr>\n",
       "      <th>79</th>\n",
       "      <td>0</td>\n",
       "      <td>0</td>\n",
       "    </tr>\n",
       "    <tr>\n",
       "      <th>80</th>\n",
       "      <td>0</td>\n",
       "      <td>0</td>\n",
       "    </tr>\n",
       "    <tr>\n",
       "      <th>81</th>\n",
       "      <td>1</td>\n",
       "      <td>1</td>\n",
       "    </tr>\n",
       "    <tr>\n",
       "      <th>82</th>\n",
       "      <td>0</td>\n",
       "      <td>0</td>\n",
       "    </tr>\n",
       "    <tr>\n",
       "      <th>83</th>\n",
       "      <td>1</td>\n",
       "      <td>1</td>\n",
       "    </tr>\n",
       "  </tbody>\n",
       "</table>\n",
       "<p>84 rows × 2 columns</p>\n",
       "</div>"
      ],
      "text/plain": [
       "    Actual Price  Predicted Price\n",
       "0              0                0\n",
       "1              1                1\n",
       "2              0                0\n",
       "3              0                0\n",
       "4              1                1\n",
       "..           ...              ...\n",
       "79             0                0\n",
       "80             0                0\n",
       "81             1                1\n",
       "82             0                0\n",
       "83             1                1\n",
       "\n",
       "[84 rows x 2 columns]"
      ]
     },
     "execution_count": 110,
     "metadata": {},
     "output_type": "execute_result"
    }
   ],
   "source": [
    "y_test_predicted = np.dot(x_test, w_final) + b_final\n",
    "y_predT = [1 if x >= 0.5 else 0 for x in y_test_predicted]\n",
    "df2 = pd.DataFrame({'Actual Price': y_test, 'Predicted Price':y_predT})\n",
    "df2"
   ]
  },
  {
   "cell_type": "code",
   "execution_count": 120,
   "id": "f456d921",
   "metadata": {},
   "outputs": [
    {
     "name": "stdout",
     "output_type": "stream",
     "text": [
      "R-squared (Testing Data): 1.000\n"
     ]
    }
   ],
   "source": [
    "# Calculate the mean of the actual values\n",
    "mean_actual = np.mean(y_test)\n",
    "# Calculate the total sum of squares (SST)\n",
    "sst = np.sum((y_test - mean_actual) ** 2)\n",
    "# Calculate the sum of squared residuals (SSR)\n",
    "ssr = np.sum((y_predT - y_test) ** 2)\n",
    "# Calculate R-squared\n",
    "r_squared = 1 - (ssr / sst)\n",
    "print(f\"R-squared (Testing Data): {r_squared:.3f}\")\n"
   ]
  },
  {
   "cell_type": "code",
   "execution_count": null,
   "id": "2d721661",
   "metadata": {},
   "outputs": [],
   "source": []
  }
 ],
 "metadata": {
  "kernelspec": {
   "display_name": "Python 3 (ipykernel)",
   "language": "python",
   "name": "python3"
  },
  "language_info": {
   "codemirror_mode": {
    "name": "ipython",
    "version": 3
   },
   "file_extension": ".py",
   "mimetype": "text/x-python",
   "name": "python",
   "nbconvert_exporter": "python",
   "pygments_lexer": "ipython3",
   "version": "3.11.4"
  }
 },
 "nbformat": 4,
 "nbformat_minor": 5
}
